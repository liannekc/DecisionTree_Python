{
  "nbformat": 4,
  "nbformat_minor": 0,
  "metadata": {
    "colab": {
      "name": "HW6_Chu_Lianne.ipynb",
      "provenance": [],
      "collapsed_sections": [],
      "include_colab_link": true
    },
    "kernelspec": {
      "name": "python3",
      "display_name": "Python 3"
    },
    "language_info": {
      "name": "python"
    }
  },
  "cells": [
    {
      "cell_type": "markdown",
      "metadata": {
        "id": "view-in-github",
        "colab_type": "text"
      },
      "source": [
        "<a href=\"https://colab.research.google.com/github/liannekc/DecisionTree_Python/blob/main/DecisionTree_Python.ipynb\" target=\"_parent\"><img src=\"https://colab.research.google.com/assets/colab-badge.svg\" alt=\"Open In Colab\"/></a>"
      ]
    },
    {
      "cell_type": "markdown",
      "metadata": {
        "id": "gJL_nLkdHYDy"
      },
      "source": [
        "Dataset:\n",
        "\n",
        "https://drive.google.com/drive/folders/1NxCh4X7u7wVo5aHojxjLNs9wC7B7zJhb?usp=sharing\n",
        "\n"
      ]
    },
    {
      "cell_type": "markdown",
      "metadata": {
        "id": "Zp3D8wIOH4bR"
      },
      "source": [
        "Import all the libraries you require in the cell below.\n",
        "\n"
      ]
    },
    {
      "cell_type": "code",
      "metadata": {
        "id": "72EyvzqAH6G_"
      },
      "source": [
        "import pandas as pd\n",
        "from sklearn.model_selection import train_test_split\n",
        "from sklearn.tree import DecisionTreeClassifier\n",
        "from sklearn import metrics\n",
        "import matplotlib.pyplot as plt\n",
        "from sklearn.metrics import accuracy_score\n",
        "from sklearn import tree"
      ],
      "execution_count": null,
      "outputs": []
    },
    {
      "cell_type": "markdown",
      "metadata": {
        "id": "TxCnZ-n3H0Wd"
      },
      "source": [
        "### 1. Build a classification model that predicts the edibility of mushrooms (class variable in the dataset). You have been provide with a dataset as a mushrooms.csv file. \n",
        "Here is a description of the attributes\n"
      ]
    },
    {
      "cell_type": "markdown",
      "metadata": {
        "id": "2WX2OwgOIHMd"
      },
      "source": [
        "Attribute description:\n",
        "1. cap-shape: bell=b,conical=c,convex=x,flat=f, knobbed=k,sunken=s \n",
        "2. cap-surface: fibrous=f,grooves=g,scaly=y,smooth=s \n",
        "3. cap-color: brown=n,buff=b,cinnamon=c,gray=g,green=r, pink=p,purple=u,red=e,white=w,yellow=y \n",
        "4. bruises?: bruises=t,no=f \n",
        "5. odor: almond=a,anise=l,creosote=c,fishy=y,foul=f, musty=m,none=n,pungent=p,spicy=s \n",
        "6. gill-attachment: attached=a,descending=d,free=f,notched=n \n",
        "7. gill-spacing: close=c,crowded=w,distant=d \n",
        "8. gill-size: broad=b,narrow=n \n",
        "9. gill-color: black=k,brown=n,buff=b,chocolate=h,gray=g, green=r,orange=o,pink=p,purple=u,red=e, white=w,yellow=y \n",
        "10. stalk-shape: enlarging=e,tapering=t \n",
        "11. stalk-root: bulbous=b,club=c,cup=u,equal=e, rhizomorphs=z,rooted=r,missing=? \n",
        "12. stalk-surface-above-ring: fibrous=f,scaly=y,silky=k,smooth=s \n",
        "13. stalk-surface-below-ring: fibrous=f,scaly=y,silky=k,smooth=s \n",
        "14. stalk-color-above-ring: brown=n,buff=b,cinnamon=c,gray=g,orange=o, pink=p,red=e,white=w,yellow=y \n",
        "15. stalk-color-below-ring: brown=n,buff=b,cinnamon=c,gray=g,orange=o, pink=p,red=e,white=w,yellow=y \n",
        "16. veil-type: partial=p,universal=u \n",
        "17. veil-color: brown=n,orange=o,white=w,yellow=y \n",
        "18. ring-number: none=n,one=o,two=t \n",
        "19. ring-type: cobwebby=c,evanescent=e,flaring=f,large=l, none=n,pendant=p,sheathing=s,zone=z \n",
        "20. spore-print-color: black=k,brown=n,buff=b,chocolate=h,green=r, orange=o,purple=u,white=w,yellow=y \n",
        "21. population: abundant=a,clustered=c,numerous=n, scattered=s,several=v,solitary=y \n",
        "22. habitat: grasses=g,leaves=l,meadows=m,paths=p, urban=u,waste=w,woods=d\n",
        "23. class: p = poisonous, e=edible\n"
      ]
    },
    {
      "cell_type": "markdown",
      "metadata": {
        "id": "LJeXdQymILSv"
      },
      "source": [
        "1. Build a classification tree. Random_state =2020. Training partition 0.7. stratify = y, max_depth = 6, use Entropy (8 marks)\n",
        "\n",
        "A. Read the dataset, explore it and determine what is the dependent variable (1 mark)\n",
        "\n",
        "B. Store the feature and target variable. (2 marks)\n",
        "\n",
        "C. Convert all categorical variables into dummy variables (1 mark)\n",
        "\n",
        "D. Partition the data into training and test sets (70/30) (1 mark)\n",
        "\n",
        "E. Fit the training data to a classification tree. (3 marks)"
      ]
    },
    {
      "cell_type": "code",
      "metadata": {
        "id": "Eme32RA0IKoR",
        "colab": {
          "base_uri": "https://localhost:8080/"
        },
        "outputId": "2a47cb9e-d486-4f8e-d347-c8c6f7122dc5"
      },
      "source": [
        "#1A - Dependent variable: class\n",
        "df = pd.read_csv('mushrooms.csv')\n",
        "print(df.head())\n",
        "print(df.shape)\n",
        "print(df.columns.values)\n",
        "print(df.isnull().sum())"
      ],
      "execution_count": null,
      "outputs": [
        {
          "output_type": "stream",
          "text": [
            "  class cap-shape cap-surface  ... spore-print-color population habitat\n",
            "0     p         x           s  ...                 k          s       u\n",
            "1     e         x           s  ...                 n          n       g\n",
            "2     e         b           s  ...                 n          n       m\n",
            "3     p         x           y  ...                 k          s       u\n",
            "4     e         x           s  ...                 n          a       g\n",
            "\n",
            "[5 rows x 23 columns]\n",
            "(8124, 23)\n",
            "['class' 'cap-shape' 'cap-surface' 'cap-color' 'bruises' 'odor'\n",
            " 'gill-attachment' 'gill-spacing' 'gill-size' 'gill-color' 'stalk-shape'\n",
            " 'stalk-root' 'stalk-surface-above-ring' 'stalk-surface-below-ring'\n",
            " 'stalk-color-above-ring' 'stalk-color-below-ring' 'veil-type'\n",
            " 'veil-color' 'ring-number' 'ring-type' 'spore-print-color' 'population'\n",
            " 'habitat']\n",
            "class                       0\n",
            "cap-shape                   0\n",
            "cap-surface                 0\n",
            "cap-color                   0\n",
            "bruises                     0\n",
            "odor                        0\n",
            "gill-attachment             0\n",
            "gill-spacing                0\n",
            "gill-size                   0\n",
            "gill-color                  0\n",
            "stalk-shape                 0\n",
            "stalk-root                  0\n",
            "stalk-surface-above-ring    0\n",
            "stalk-surface-below-ring    0\n",
            "stalk-color-above-ring      0\n",
            "stalk-color-below-ring      0\n",
            "veil-type                   0\n",
            "veil-color                  0\n",
            "ring-number                 0\n",
            "ring-type                   0\n",
            "spore-print-color           0\n",
            "population                  0\n",
            "habitat                     0\n",
            "dtype: int64\n"
          ],
          "name": "stdout"
        }
      ]
    },
    {
      "cell_type": "code",
      "metadata": {
        "colab": {
          "base_uri": "https://localhost:8080/"
        },
        "id": "xn4aCIN5b02t",
        "outputId": "4ce63103-2301-4c85-ea5e-8ea0978af550"
      },
      "source": [
        "#1C\n",
        "df = pd.get_dummies(df, columns=['cap-shape', 'cap-surface', 'cap-color', 'bruises', 'odor',\n",
        " 'gill-attachment', 'gill-spacing', 'gill-size', 'gill-color', 'stalk-shape',\n",
        " 'stalk-root', 'stalk-surface-above-ring', 'stalk-surface-below-ring',\n",
        " 'stalk-color-above-ring', 'stalk-color-below-ring', 'veil-type',\n",
        " 'veil-color', 'ring-number', 'ring-type', 'spore-print-color', 'population',\n",
        " 'habitat'])\n",
        "print(df.head())"
      ],
      "execution_count": null,
      "outputs": [
        {
          "output_type": "stream",
          "text": [
            "  class  cap-shape_b  cap-shape_c  ...  habitat_p  habitat_u  habitat_w\n",
            "0     p            0            0  ...          0          1          0\n",
            "1     e            0            0  ...          0          0          0\n",
            "2     e            1            0  ...          0          0          0\n",
            "3     p            0            0  ...          0          1          0\n",
            "4     e            0            0  ...          0          0          0\n",
            "\n",
            "[5 rows x 118 columns]\n"
          ],
          "name": "stdout"
        }
      ]
    },
    {
      "cell_type": "code",
      "metadata": {
        "id": "NFY6BK0_eF3e"
      },
      "source": [
        "#1B\n",
        "# Feature variables\n",
        "X = df.iloc[:, 1:]\n",
        "#print(X)\n",
        "# target variables\n",
        "y = df.iloc[:, 0]\n",
        "#print(y)"
      ],
      "execution_count": null,
      "outputs": []
    },
    {
      "cell_type": "code",
      "metadata": {
        "id": "1Uwb0avQccxh"
      },
      "source": [
        "#1D\n",
        "from sklearn.model_selection import train_test_split\n",
        "\n",
        "X_train, X_test, y_train, y_test = train_test_split(X, y, test_size=0.3, random_state=2020,stratify=y)"
      ],
      "execution_count": null,
      "outputs": []
    },
    {
      "cell_type": "code",
      "metadata": {
        "id": "IN6pKGFmEumu"
      },
      "source": [
        "dfcopy = df.copy()"
      ],
      "execution_count": null,
      "outputs": []
    },
    {
      "cell_type": "code",
      "metadata": {
        "colab": {
          "base_uri": "https://localhost:8080/"
        },
        "id": "VIKq2rS-csXG",
        "outputId": "1575586f-a5d5-4a94-b5c5-039d23e6eced"
      },
      "source": [
        "#1E\n",
        "from sklearn.tree import DecisionTreeClassifier\n",
        "\n",
        "df = DecisionTreeClassifier(max_depth = 6,criterion='entropy')\n",
        "df.fit(X_train, y_train)"
      ],
      "execution_count": null,
      "outputs": [
        {
          "output_type": "execute_result",
          "data": {
            "text/plain": [
              "DecisionTreeClassifier(ccp_alpha=0.0, class_weight=None, criterion='entropy',\n",
              "                       max_depth=6, max_features=None, max_leaf_nodes=None,\n",
              "                       min_impurity_decrease=0.0, min_impurity_split=None,\n",
              "                       min_samples_leaf=1, min_samples_split=2,\n",
              "                       min_weight_fraction_leaf=0.0, presort='deprecated',\n",
              "                       random_state=None, splitter='best')"
            ]
          },
          "metadata": {
            "tags": []
          },
          "execution_count": 25
        }
      ]
    },
    {
      "cell_type": "markdown",
      "metadata": {
        "id": "YB-2YFsOIUah"
      },
      "source": [
        "2. Print the confusion matrix. \n",
        "Also visualize the confusion matrix using plot_confusion_matrix from sklearn.metrics (3 marks)\n",
        "\n"
      ]
    },
    {
      "cell_type": "code",
      "metadata": {
        "id": "PGiEelROfbwg"
      },
      "source": [
        "y_pred = df.predict(X_test)"
      ],
      "execution_count": null,
      "outputs": []
    },
    {
      "cell_type": "code",
      "metadata": {
        "id": "VFwyLKzcRjyY",
        "colab": {
          "base_uri": "https://localhost:8080/",
          "height": 313
        },
        "outputId": "1a260399-0b0b-45d7-93b5-b130ad899f7b"
      },
      "source": [
        "from sklearn import metrics\n",
        "\n",
        "cf = metrics.confusion_matrix(y_test, y_pred)\n",
        "print(cf)\n",
        "\n",
        "import matplotlib.pyplot as plt\n",
        "\n",
        "metrics.plot_confusion_matrix(df, X_test, y_test)\n",
        "plt.show()"
      ],
      "execution_count": null,
      "outputs": [
        {
          "output_type": "stream",
          "text": [
            "[[1263    0]\n",
            " [   3 1172]]\n"
          ],
          "name": "stdout"
        },
        {
          "output_type": "display_data",
          "data": {
            "image/png": "[encoded data removed]",
            "text/plain": [
              "<Figure size 432x288 with 2 Axes>"
            ]
          },
          "metadata": {
            "tags": [],
            "needs_background": "light"
          }
        }
      ]
    },
    {
      "cell_type": "markdown",
      "metadata": {
        "id": "yhdyvv48JFFd"
      },
      "source": [
        "3. Print the accuracy on the training partition?  (2 marks)\n"
      ]
    },
    {
      "cell_type": "code",
      "metadata": {
        "colab": {
          "base_uri": "https://localhost:8080/"
        },
        "id": "QvA79Re2IQxu",
        "outputId": "f433d4a7-cacf-4cff-929e-2b93142f0853"
      },
      "source": [
        "from sklearn.metrics import accuracy_score\n",
        "training_pred = df.predict(X_train)\n",
        "acc_training = accuracy_score(training_pred, y_train)\n",
        "print(\"Accuracy on Training partition:\",acc_training)"
      ],
      "execution_count": null,
      "outputs": [
        {
          "output_type": "stream",
          "text": [
            "Accuracy on Training partition: 1.0\n"
          ],
          "name": "stdout"
        }
      ]
    },
    {
      "cell_type": "markdown",
      "metadata": {
        "id": "_aH9TPFSJGv_"
      },
      "source": [
        "4. Print the accuracy on the test partition? (2 marks)\n"
      ]
    },
    {
      "cell_type": "code",
      "metadata": {
        "colab": {
          "base_uri": "https://localhost:8080/"
        },
        "id": "SH0_hSmvLSmC",
        "outputId": "c1b8039f-bc7d-4f55-fd5d-02ec10f17b5a"
      },
      "source": [
        "acc_testing = accuracy_score(y_pred, y_test)\n",
        "print(\"Accuracy on Testing partition:\",acc_testing)"
      ],
      "execution_count": null,
      "outputs": [
        {
          "output_type": "stream",
          "text": [
            "Accuracy on Testing partition: 0.9987694831829368\n"
          ],
          "name": "stdout"
        }
      ]
    },
    {
      "cell_type": "markdown",
      "metadata": {
        "id": "_cWbOP-3JIE0"
      },
      "source": [
        "5. Show the classification tree and save it (5 marks)\n"
      ]
    },
    {
      "cell_type": "code",
      "metadata": {
        "id": "LRuYQCeNR1Dn",
        "colab": {
          "base_uri": "https://localhost:8080/",
          "height": 248
        },
        "outputId": "3157b237-5cdd-4123-cdf0-fa1373882109"
      },
      "source": [
        "from sklearn import tree\n",
        "\n",
        "plt.figure(2)\n",
        "tree = tree.plot_tree(df)\n",
        "plt.savefig('mushroom.png')\n",
        "plt.show()\n"
      ],
      "execution_count": null,
      "outputs": [
        {
          "output_type": "display_data",
          "data": {
            "image/png": "[encoded data removed]",
            "text/plain": [
              "<Figure size 432x288 with 1 Axes>"
            ]
          },
          "metadata": {
            "tags": [],
            "needs_background": "light"
          }
        }
      ]
    },
    {
      "cell_type": "markdown",
      "metadata": {
        "id": "a3fM0HMSJJl8"
      },
      "source": [
        "6. Find and print the top three most important features in your decision tree for determining toxicity. (4 marks)"
      ]
    },
    {
      "cell_type": "code",
      "metadata": {
        "id": "qTkc8ga1R6kd",
        "colab": {
          "base_uri": "https://localhost:8080/"
        },
        "outputId": "0a6795f3-86c9-47e5-e457-9e7cc2e2cafb"
      },
      "source": [
        "#print('Feature Importance:', df.feature_importances_)\n",
        "# Top three most important features\n",
        "# 1) order 2) bruises 3) stalk surface below ring\n",
        "imp=pd.DataFrame(zip(X_train.columns, df.feature_importances_))\n",
        "a = imp.sort_values(by=[1],ascending=False)\n",
        "#print(a)\n",
        "print(a.iloc[:3])\n"
      ],
      "execution_count": null,
      "outputs": [
        {
          "output_type": "stream",
          "text": [
            "               0         1\n",
            "27        odor_n  0.527899\n",
            "20     bruises_f  0.212695\n",
            "53  stalk-root_c  0.067373\n"
          ],
          "name": "stdout"
        }
      ]
    },
    {
      "cell_type": "markdown",
      "metadata": {
        "id": "uye7JohHJQmN"
      },
      "source": [
        "7. Classify the following mushroom. (6 marks)\n",
        "\n",
        "class\n",
        " : **?**\n",
        "\n",
        "cap-shape\n",
        ": **x**\n",
        "\n",
        "cap-surface\n",
        ": **s**\n",
        "\n",
        "cap-color\n",
        ": **n**\n",
        "\n",
        "bruises\n",
        ": **t**\n",
        "\n",
        "odor\n",
        ": **y**\n",
        "\n",
        "gill-attachment\n",
        ": **f**\n",
        "\n",
        "gill-spacing\n",
        ": **c**\n",
        "\n",
        "gill-size\n",
        ": **n**\n",
        "\n",
        "gill-color\n",
        ": **k**\n",
        "\n",
        "stalk-shape\n",
        ": **e**\n",
        "\n",
        "stalk-root\n",
        ": **e**\n",
        "\n",
        "stalk-surface-above-ring\n",
        ": **s**\n",
        "\n",
        "stalk-surface-below-ring\n",
        ": **s**\n",
        "\n",
        "stalk-color-above-ring\n",
        ": **w**\n",
        "\n",
        "stalk-color-below-ring\n",
        ": **w**\n",
        "\n",
        "veil-type\n",
        ": **p**\n",
        "\n",
        "veil-color\n",
        ": **w**\n",
        "\n",
        "ring-number\n",
        ": **o**\n",
        "\n",
        "ring-type\n",
        ": **p**\n",
        "\n",
        "spore-print-color\n",
        ": **r**\n",
        "\n",
        "population\n",
        ": **s**\n",
        "\n",
        "habitat\n",
        ": **u**\n",
        "\n"
      ]
    },
    {
      "cell_type": "code",
      "metadata": {
        "colab": {
          "base_uri": "https://localhost:8080/"
        },
        "id": "P3zIC_rBGmA4",
        "outputId": "5e8222d4-65d0-4465-ee0d-5f2e3d235907"
      },
      "source": [
        "df2 = {'class':'p', 'cap-shape_b':0, 'cap-shape_c':0, 'cap-shape_f':0, 'cap-shape_k':0,\n",
        " 'cap-shape_s':0, 'cap-shape_x':1, 'cap-surface_f':0, 'cap-surface_g':0,\n",
        " 'cap-surface_s':1, 'cap-surface_y':0, 'cap-color_b':0, 'cap-color_c':0, 'cap-color_e':0,\n",
        " 'cap-color_g':0, 'cap-color_n':1, 'cap-color_p':0, 'cap-color_r':0, 'cap-color_u':0,\n",
        " 'cap-color_w':0, 'cap-color_y':0, 'bruises_f':0, 'bruises_t':1, 'odor_a':0, 'odor_c':0,\n",
        " 'odor_f':0, 'odor_l':0, 'odor_m':0, 'odor_n':0, 'odor_p':0, 'odor_s':0, 'odor_y':1,\n",
        " 'gill-attachment_a':0, 'gill-attachment_f':1, 'gill-spacing_c':1, 'gill-spacing_w':0,\n",
        " 'gill-size_b':0, 'gill-size_n':1, 'gill-color_b':0, 'gill-color_e':0, 'gill-color_g':0,\n",
        " 'gill-color_h':0, 'gill-color_k':1, 'gill-color_n':0, 'gill-color_o':0,\n",
        " 'gill-color_p':0, 'gill-color_r':0, 'gill-color_u':0, 'gill-color_w':0,\n",
        " 'gill-color_y':0, 'stalk-shape_e':1, 'stalk-shape_t':0, 'stalk-root_?':0,\n",
        " 'stalk-root_b':0, 'stalk-root_c':0, 'stalk-root_e':1, 'stalk-root_r':0,\n",
        " 'stalk-surface-above-ring_f':0, 'stalk-surface-above-ring_k':0,\n",
        " 'stalk-surface-above-ring_s':1, 'stalk-surface-above-ring_y':0,\n",
        " 'stalk-surface-below-ring_f':0, 'stalk-surface-below-ring_k':0,\n",
        " 'stalk-surface-below-ring_s':1, 'stalk-surface-below-ring_y':0,\n",
        " 'stalk-color-above-ring_b':0, 'stalk-color-above-ring_c':0,\n",
        " 'stalk-color-above-ring_e':0, 'stalk-color-above-ring_g':0,\n",
        " 'stalk-color-above-ring_n':0, 'stalk-color-above-ring_o':0,\n",
        " 'stalk-color-above-ring_p':0, 'stalk-color-above-ring_w':1,\n",
        " 'stalk-color-above-ring_y':0, 'stalk-color-below-ring_b':0,\n",
        " 'stalk-color-below-ring_c':0, 'stalk-color-below-ring_e':0,\n",
        " 'stalk-color-below-ring_g':0, 'stalk-color-below-ring_n':0,\n",
        " 'stalk-color-below-ring_o':0, 'stalk-color-below-ring_p':0,\n",
        " 'stalk-color-below-ring_w':1, 'stalk-color-below-ring_y':0, 'veil-type_p':1,\n",
        " 'veil-color_n':0, 'veil-color_o':0, 'veil-color_w':1, 'veil-color_y':0,\n",
        " 'ring-number_n':0, 'ring-number_o':1, 'ring-number_t':0, 'ring-type_e':0,\n",
        " 'ring-type_f':0, 'ring-type_l':0, 'ring-type_n':0, 'ring-type_p':1,\n",
        " 'spore-print-color_b':0, 'spore-print-color_h':0, 'spore-print-color_k':0,\n",
        " 'spore-print-color_n':0, 'spore-print-color_o':0, 'spore-print-color_r':1,\n",
        " 'spore-print-color_u':0, 'spore-print-color_w':0, 'spore-print-color_y':0,\n",
        " 'population_a':0, 'population_c':0, 'population_n':0, 'population_s':1,\n",
        " 'population_v':0, 'population_y':0, 'habitat_d':0, 'habitat_g':0, 'habitat_l':0,\n",
        " 'habitat_m':0, 'habitat_p':0, 'habitat_u':1, 'habitat_w':0}\n",
        "\n",
        "dfcopy = dfcopy.append(df2, ignore_index = True)\n",
        "x2 = dfcopy.iloc[-1:, 1:]\n",
        "#print(x2)\n",
        "y2 = df.predict(x2)\n",
        "print(y2)"
      ],
      "execution_count": null,
      "outputs": [
        {
          "output_type": "stream",
          "text": [
            "['p']\n"
          ],
          "name": "stdout"
        }
      ]
    }
  ]
}